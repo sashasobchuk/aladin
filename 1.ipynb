{
 "cells": [
  {
   "cell_type": "code",
   "execution_count": null,
   "metadata": {},
   "outputs": [],
   "source": [
    "# https://www.youtube.com/watch?v=HPjBY1H-U4U&list=PLhhyoLH6IjfxVOdVC1P1L5z5azs0XjMsb&index=2\n",
    "# tf intro\n",
    "\n",
    "import tensorflow as tf\n",
    "import os\n",
    "os.environ['TF_CPP_MIN_LOG_LEVEL']='2'\n"
   ]
  },
  {
   "cell_type": "code",
   "execution_count": 30,
   "metadata": {},
   "outputs": [
    {
     "name": "stdout",
     "output_type": "stream",
     "text": [
      "tf.Tensor([1. 4. 7.], shape=(3,), dtype=float64)\n"
     ]
    }
   ],
   "source": [
    "#  ініціалізація тензорів\n",
    "x = tf.constant(4.0,shape=(1,1),dtype=tf.float32)\n",
    "# print(x)\n",
    "x = tf.constant([[1,2,3],[4,5,6]])\n",
    "# print(x)\n",
    "x = tf.ones((3,3))\n",
    "# print(x)\n",
    "x =tf.eye(3)\n",
    "# print(x)\n",
    "x = tf.random.normal((3,3), mean=0, stddev=1)\n",
    "# print(x)\n",
    "x = tf.random.uniform((1,3), minval=0, maxval=1) #3 від 0 до 1   tf.Tensor([[0.7355474 0.8880601 0.8938205]], shape=(1, 3), dtype=float32)\n",
    "# print(x)\n",
    "x = tf.range(start=1, limit=10, delta=3)\n",
    "# print(x)\n",
    "x = tf.cast(x,dtype=tf.float64)\n",
    "# print(x)"
   ]
  },
  {
   "cell_type": "code",
   "execution_count": 45,
   "metadata": {},
   "outputs": [
    {
     "name": "stdout",
     "output_type": "stream",
     "text": [
      "tf.Tensor([1 4 9], shape=(3,), dtype=int32)\n"
     ]
    }
   ],
   "source": [
    "x = tf.constant([1,2,3])\n",
    "y = tf.constant([9,8,7])\n",
    "z = tf.add(x,y)\n",
    "# z = x + y\n",
    "# print(z) #same as z = x +y\n",
    "\n",
    "z = tf.subtract(x,y)\n",
    "z = x-y\n",
    "# print(z)\n",
    "\n",
    "z = tf.tensordot(x,y,axes=1)# перемножити два тензори і числа додати\n",
    "z = tf.reduce_sum(x*y,axis=0) #те саме\n",
    "# print(z)\n",
    "z = x ** 2 # кожне число в квадраті\n",
    "print(z)\n",
    "\n"
   ]
  },
  {
   "cell_type": "code",
   "execution_count": null,
   "metadata": {},
   "outputs": [
    {
     "name": "stdout",
     "output_type": "stream",
     "text": [
      "tf.Tensor(\n",
      "[[0 3 6]\n",
      " [1 4 7]\n",
      " [2 5 8]], shape=(3, 3), dtype=int32)\n"
     ]
    }
   ],
   "source": [
    "#indexing\n",
    "x = tf.constant([0,1,1,2,3,2,3])\n",
    "# print(x[:])#пповна копія масиву\n",
    "# print(x[1:])#копія починаючи з першого\n",
    "# print(x[1:3])#копія з першого по третє\n",
    "# print(x[::2])#кожне друге\n",
    "\n",
    "indeces = tf.constant([0, 3])\n",
    "x_ind = tf.gather(x,indeces) # взяти такі то індекси\n",
    "# print(x_ind)\n",
    "\n",
    "x = tf.constant([[1,2],\n",
    "                 [3,4],\n",
    "                 [5,6]]) # 3,2 dimention\n",
    "\n",
    "# print(x[0,:]) # [1,2] \n",
    "# print(x[0:2,:]) #[1,2][3,4]\n",
    "\n",
    "\n"
   ]
  },
  {
   "cell_type": "code",
   "execution_count": 73,
   "metadata": {},
   "outputs": [
    {
     "name": "stdout",
     "output_type": "stream",
     "text": [
      "tf.Tensor(\n",
      "[[0 3 6]\n",
      " [1 4 7]\n",
      " [2 5 8]], shape=(3, 3), dtype=int32)\n"
     ]
    }
   ],
   "source": [
    "#reshaping\n",
    "x = tf.range(9)\n",
    "# print(x)\n",
    "x = tf.reshape(x,(3,3))\n",
    "        #[[0 1 2]\n",
    "        #  [3 4 5]\n",
    "        #  [6 7 8]]\n",
    "# print(x)\n",
    "x = tf.transpose(x,perm=[1,0])\n",
    "        # [[0 3 6]\n",
    "        #  [1 4 7]\n",
    "        #  [2 5 8]]\n",
    "print(x)"
   ]
  }
 ],
 "metadata": {
  "kernelspec": {
   "display_name": "base",
   "language": "python",
   "name": "python3"
  },
  "language_info": {
   "codemirror_mode": {
    "name": "ipython",
    "version": 3
   },
   "file_extension": ".py",
   "mimetype": "text/x-python",
   "name": "python",
   "nbconvert_exporter": "python",
   "pygments_lexer": "ipython3",
   "version": "3.10.15"
  }
 },
 "nbformat": 4,
 "nbformat_minor": 2
}
